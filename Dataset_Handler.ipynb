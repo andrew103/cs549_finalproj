{
 "cells": [
  {
   "cell_type": "markdown",
   "metadata": {},
   "source": [
    "# Explore and Manipulate Dataset"
   ]
  },
  {
   "cell_type": "markdown",
   "metadata": {},
   "source": [
    "## File locations\n",
    "Just enter in the relative (from this notebook file) location of the LISA dataset folder, and output data folder."
   ]
  },
  {
   "cell_type": "code",
   "execution_count": 2,
   "metadata": {},
   "outputs": [],
   "source": [
    "# Relative location of LISA files directory\n",
    "lisa_location = 'data'\n",
    "\n",
    "# Relative location of final organized data\n",
    "data_location = 'darknet2'"
   ]
  },
  {
   "cell_type": "markdown",
   "metadata": {},
   "source": [
    "## Load and show some annotations\n",
    "Load in annotations and show structure so that we can parse."
   ]
  },
  {
   "cell_type": "code",
   "execution_count": 3,
   "metadata": {},
   "outputs": [
    {
     "name": "stdout",
     "output_type": "stream",
     "text": [
      "47 classes found.\n",
      "7855 total annotations.\n",
      "Annotation Headers: ['Filename', 'Annotation tag', 'Upper left corner X', 'Upper left corner Y', 'Lower right corner X', 'Lower right corner Y', 'Occluded', 'On another road', 'Origin file', 'Origin frame number', 'Origin track', 'Origin track frame number']\n",
      "Example Annotation: ['aiua120214-0/frameAnnotations-DataLog02142012_external_camera.avi_annotations/stop_1330545910.avi_image0.png', 'stop', '862', '104', '916', '158', '0', '0', 'aiua120214-0/DataLog02142012_external_camera.avi', '2667', 'stop_1330545910.avi', '2']\n"
     ]
    }
   ],
   "source": [
    "from os.path import join   \n",
    "    \n",
    "# Load csv file\n",
    "with open(join(lisa_location, 'allAnnotations.csv'), 'r') as f:\n",
    "    csv = f.readlines()\n",
    "\n",
    "annotations = []\n",
    "for line in csv:\n",
    "    cells = line.split(',')\n",
    "    annotation = []\n",
    "    for cell in cells:\n",
    "        annotation += cell.strip().split(';')\n",
    "    annotations.append(annotation)\n",
    "\n",
    "headers = annotations[0]\n",
    "annotations = annotations[1:]\n",
    "num_annotations = len(annotations)\n",
    "\n",
    "# Get all unique classes\n",
    "classes = set()\n",
    "for annotation in annotations:\n",
    "    classes.add(annotation[1])\n",
    "classes = sorted(list(classes))\n",
    "num_classes = len(classes)\n",
    "\n",
    "print(f'{num_classes} classes found.')\n",
    "print(f'{num_annotations} total annotations.')\n",
    "print('Annotation Headers:', headers)\n",
    "print('Example Annotation:', annotations[0])"
   ]
  },
  {
   "cell_type": "markdown",
   "metadata": {},
   "source": [
    "## Format Annotations\n",
    "Define a class to help us format the annotations and work with their corresponding files. This class will format the annotations in YOLO format, modify it to work with whatever format you desire."
   ]
  },
  {
   "cell_type": "code",
   "execution_count": 5,
   "metadata": {},
   "outputs": [
    {
     "name": "stdout",
     "output_type": "stream",
     "text": [
      "All annotations formatted.\n",
      "Example annotation: 35 0.8681640625 0.2509578544061303 0.052734375 0.10344827586206896\n"
     ]
    }
   ],
   "source": [
    "from PIL import Image\n",
    "from os.path import join\n",
    "\n",
    "class Annotation:\n",
    "    def __init__(self, annotation_list):\n",
    "        # Take in annotation lists generated above, and create fields\n",
    "        self.filename = join(lisa_location, annotation_list[0])\n",
    "        self.label = annotation_list[1]\n",
    "        \n",
    "        # You will likely need to modify the method here, which takes in\n",
    "        # bounding box location and size of format \n",
    "        # [Upper Left X, Upper Left Y, Lower Right X, Lower Right Y]\n",
    "        self.bounds = self.parse_bounds(annotation_list[2:6])\n",
    "        \n",
    "    def parse_bounds(self, bounds):\n",
    "        # This method parses the location from the annotation into a format used for YOLO\n",
    "        UL_x = float(bounds[0])\n",
    "        UL_y = float(bounds[1])\n",
    "        LR_x = float(bounds[2])\n",
    "        LR_y = float(bounds[3])\n",
    "        \n",
    "        # Yolo takes in bounding box location of format:\n",
    "        # [Center X, Center Y, Width, Height]\n",
    "        # all normalized by width and height of image\n",
    "        im = Image.open(self.filename)\n",
    "        im_width, im_height = im.size\n",
    "        \n",
    "        box_width = LR_x - UL_x\n",
    "        box_height = LR_y - UL_y\n",
    "        box_x = UL_x + box_width/2\n",
    "        box_y = UL_y + box_height/2\n",
    "        \n",
    "        # Return bounding box location and size\n",
    "        return [box_x/im_width, box_y/im_height, box_width/im_width, box_height/im_height]\n",
    "    \n",
    "    def __str__(self):\n",
    "        # String format of [label index, x, y, width, height] for creating label txt file\n",
    "        label = classes.index(self.label)\n",
    "        return f'{label} {self.bounds[0]} {self.bounds[1]} {self.bounds[2]} {self.bounds[3]}'\n",
    "    \n",
    "\n",
    "# Generate formatted list of annotations\n",
    "formatted = []\n",
    "for annotation in annotations:\n",
    "    formatted.append(Annotation(annotation))\n",
    "\n",
    "print('All annotations formatted.')\n",
    "print('Example annotation:', formatted[0])"
   ]
  },
  {
   "cell_type": "markdown",
   "metadata": {},
   "source": [
    "## Dataset Info\n"
   ]
  },
  {
   "cell_type": "markdown",
   "metadata": {},
   "source": [
    "Counting the number of occurrences of each class across all images."
   ]
  },
  {
   "cell_type": "code",
   "execution_count": 6,
   "metadata": {},
   "outputs": [
    {
     "name": "stdout",
     "output_type": "stream",
     "text": [
      "addedLane: 294.0\n",
      "curveLeft: 37.0\n",
      "curveRight: 50.0\n",
      "dip: 35.0\n",
      "doNotEnter: 23.0\n",
      "doNotPass: 9.0\n",
      "intersection: 2.0\n",
      "keepRight: 331.0\n",
      "laneEnds: 210.0\n",
      "merge: 266.0\n",
      "noLeftTurn: 47.0\n",
      "noRightTurn: 26.0\n",
      "pedestrianCrossing: 1085.0\n",
      "rampSpeedAdvisory20: 11.0\n",
      "rampSpeedAdvisory35: 5.0\n",
      "rampSpeedAdvisory40: 3.0\n",
      "rampSpeedAdvisory45: 29.0\n",
      "rampSpeedAdvisory50: 16.0\n",
      "rampSpeedAdvisoryUrdbl: 3.0\n",
      "rightLaneMustTurn: 77.0\n",
      "roundabout: 53.0\n",
      "school: 133.0\n",
      "schoolSpeedLimit25: 105.0\n",
      "signalAhead: 925.0\n",
      "slow: 34.0\n",
      "speedLimit15: 11.0\n",
      "speedLimit25: 349.0\n",
      "speedLimit30: 140.0\n",
      "speedLimit35: 538.0\n",
      "speedLimit40: 73.0\n",
      "speedLimit45: 141.0\n",
      "speedLimit50: 48.0\n",
      "speedLimit55: 2.0\n",
      "speedLimit65: 74.0\n",
      "speedLimitUrdbl: 132.0\n",
      "stop: 1821.0\n",
      "stopAhead: 168.0\n",
      "thruMergeLeft: 5.0\n",
      "thruMergeRight: 7.0\n",
      "thruTrafficMergeLeft: 19.0\n",
      "truckSpeedLimit55: 60.0\n",
      "turnLeft: 32.0\n",
      "turnRight: 92.0\n",
      "yield: 236.0\n",
      "yieldAhead: 57.0\n",
      "zoneAhead25: 21.0\n",
      "zoneAhead45: 20.0\n",
      "\n",
      "Min: 2.0\n",
      "Max: 1821.0\n"
     ]
    }
   ],
   "source": [
    "import numpy as np\n",
    "\n",
    "# Count occurrences\n",
    "counts = np.zeros(num_classes)\n",
    "for annotation in formatted:\n",
    "    counts[classes.index(annotation.label)] += 1\n",
    "\n",
    "# Show occurrences\n",
    "for i, label in enumerate(classes):\n",
    "    print(f'{label}: {counts[i]}')\n",
    "\n",
    "# Show min and max occurrences\n",
    "print('\\nMin:', min(counts))\n",
    "print('Max:', max(counts))"
   ]
  },
  {
   "cell_type": "markdown",
   "metadata": {},
   "source": [
    "## Dataset Modifications\n",
    "Since the dataset is so unbalanced, let's try some things to balance it."
   ]
  },
  {
   "cell_type": "markdown",
   "metadata": {},
   "source": [
    "First, I'll try grouping all similar sounding classes. I'll do this by choosing a few common words within the classes. All classes that include these common words will be grouped together."
   ]
  },
  {
   "cell_type": "code",
   "execution_count": 7,
   "metadata": {},
   "outputs": [
    {
     "name": "stdout",
     "output_type": "stream",
     "text": [
      "New number of classes: 23\n",
      "addedLane: 294.0\n",
      "ahead: 1150.0\n",
      "curve: 87.0\n",
      "dip: 35.0\n",
      "doNotEnter: 23.0\n",
      "doNotPass: 9.0\n",
      "intersection: 2.0\n",
      "keepRight: 331.0\n",
      "laneEnds: 210.0\n",
      "merge: 278.0\n",
      "noTurn: 73.0\n",
      "pedestrianCrossing: 1085.0\n",
      "rampSpeedAdvisory: 67.0\n",
      "rightLaneMustTurn: 77.0\n",
      "roundabout: 53.0\n",
      "school: 133.0\n",
      "slow: 34.0\n",
      "speedLimit: 1673.0\n",
      "stop: 1821.0\n",
      "thruTrafficMergeLeft: 19.0\n",
      "turn: 124.0\n",
      "yield: 236.0\n",
      "zoneAhead: 41.0\n",
      "\n",
      "Min: 2.0\n",
      "Max: 1821.0\n"
     ]
    }
   ],
   "source": [
    "import copy\n",
    "import numpy as np\n",
    "from difflib import SequenceMatcher\n",
    "\n",
    "# Define common words\n",
    "common = [\n",
    "    'curve',\n",
    "    'noTurn',\n",
    "    'rampSpeedAdvisory',\n",
    "    'speedLimit',\n",
    "    'ahead',\n",
    "    'merge',\n",
    "    'turn',\n",
    "    'zoneAhead'\n",
    "]\n",
    "\n",
    "# Define similarity metric between words and common words\n",
    "def calc_simularity(a, b):\n",
    "    matcher = SequenceMatcher(None, a.lower(), b.lower())\n",
    "    return matcher.ratio()\n",
    "\n",
    "# Create set of new classes and dictionary defining original to new class relationships\n",
    "compact_classes = set()\n",
    "relationships = dict()\n",
    "\n",
    "# Define threshold for determining if class fits common\n",
    "threshold = 0.5\n",
    "\n",
    "# Fill new classes\n",
    "for label in classes:\n",
    "    simularity_exists = False\n",
    "    best_ratio = 0\n",
    "    for word in common:\n",
    "        ratio = calc_simularity(label, word)\n",
    "        if ratio > best_ratio:\n",
    "            best_ratio = ratio\n",
    "            best_match = word\n",
    "    \n",
    "    if best_ratio > threshold:\n",
    "        simularity_exists = True\n",
    "        compact_classes.add(best_match)\n",
    "        relationships[label] = best_match\n",
    "        \n",
    "    # Maintain original label if no similar words exist\n",
    "    if not simularity_exists:\n",
    "        compact_classes.add(label)\n",
    "        relationships[label] = label\n",
    "        \n",
    "compact_classes = sorted(list(compact_classes))\n",
    "            \n",
    "# Calculate new dataset info\n",
    "print(f'New number of classes: {len(compact_classes)}')\n",
    "\n",
    "# Update annotations with new classes\n",
    "new_annotations = []\n",
    "for annotation in formatted:\n",
    "    new_annotation = copy.deepcopy(annotation)\n",
    "    new_annotation.label = relationships[new_annotation.label]\n",
    "    new_annotations.append(new_annotation)\n",
    "\n",
    "# Count occurrences\n",
    "counts = np.zeros(len(compact_classes))\n",
    "for annotation in new_annotations:\n",
    "    counts[compact_classes.index(annotation.label)] += 1\n",
    "\n",
    "# Show occurrences\n",
    "for i, label in enumerate(compact_classes):\n",
    "    print(f'{label}: {counts[i]}')\n",
    "    \n",
    "# Show min and max occurrences\n",
    "print('\\nMin:', min(counts))\n",
    "print('Max:', max(counts))"
   ]
  },
  {
   "cell_type": "markdown",
   "metadata": {},
   "source": [
    "Now the number of classes have shrunk, but still unbalanced. Let's try indicating a cut-off number of annotations for each class. We'll only keep the classes above this cut-off."
   ]
  },
  {
   "cell_type": "code",
   "execution_count": 8,
   "metadata": {},
   "outputs": [
    {
     "name": "stdout",
     "output_type": "stream",
     "text": [
      "Remaining Annotations: 7078.0\n",
      "addedLane: 294.0\n",
      "ahead: 1150.0\n",
      "keepRight: 331.0\n",
      "laneEnds: 210.0\n",
      "merge: 278.0\n",
      "pedestrianCrossing: 1085.0\n",
      "speedLimit: 1673.0\n",
      "stop: 1821.0\n",
      "yield: 236.0\n",
      "\n",
      "Min: 210.0\n",
      "Max: 1821.0\n"
     ]
    }
   ],
   "source": [
    "# Define cut-off threshold\n",
    "cutoff = 200\n",
    "\n",
    "# Keep only classes with annotations greater than threshold\n",
    "cutoff_classes = set()\n",
    "\n",
    "for i, label in enumerate(compact_classes):\n",
    "    if counts[i] > cutoff:\n",
    "        cutoff_classes.add(label)\n",
    "        \n",
    "cutoff_classes = sorted(list(cutoff_classes))\n",
    "        \n",
    "# Keep only annotations for new classes\n",
    "cutoff_annotations = []\n",
    "for annotation in new_annotations:\n",
    "    if annotation.label in cutoff_classes:\n",
    "        cutoff_annotations.append(annotation)\n",
    "        \n",
    "# Show new dataset info\n",
    "remaining_counts = np.zeros(len(cutoff_classes))\n",
    "for annotation in cutoff_annotations:\n",
    "    remaining_counts[cutoff_classes.index(annotation.label)] += 1\n",
    "print('Remaining Annotations:', sum(remaining_counts))\n",
    "    \n",
    "# Show occurrences\n",
    "for i, label in enumerate(cutoff_classes):\n",
    "    print(f'{label}: {remaining_counts[i]}')\n",
    "    \n",
    "# Show min and max occurrences\n",
    "print('\\nMin:', min(remaining_counts))\n",
    "print('Max:', max(remaining_counts))"
   ]
  },
  {
   "cell_type": "markdown",
   "metadata": {},
   "source": [
    "Now that we've limited the number of classes to those that have a minimum number of samples, we'll want to set a maximum sample limit as well to prevent bias. We'll define this maximum as a multiple of the minimum."
   ]
  },
  {
   "cell_type": "code",
   "execution_count": 9,
   "metadata": {},
   "outputs": [
    {
     "name": "stdout",
     "output_type": "stream",
     "text": [
      "Remaining Annotations: 2593\n",
      "stop: 315\n",
      "speedLimit: 315\n",
      "pedestrianCrossing: 315\n",
      "ahead: 315\n",
      "keepRight: 315\n",
      "laneEnds: 210\n",
      "merge: 278\n",
      "addedLane: 294\n",
      "yield: 236\n"
     ]
    }
   ],
   "source": [
    "import numpy as np\n",
    "\n",
    "# Define max as ratio to minimum\n",
    "ratio = 1.5\n",
    "max_samples = int(ratio*min(remaining_counts))\n",
    "\n",
    "# Separate annotations by class\n",
    "annotations_by_class = dict()\n",
    "\n",
    "for annotation in cutoff_annotations:\n",
    "    if annotation.label not in annotations_by_class.keys():\n",
    "        annotations_by_class[annotation.label] = []\n",
    "    annotations_by_class[annotation.label].append(annotation)\n",
    "    \n",
    "# Shuffle and truncate all lists with samples greater than max\n",
    "np.random.seed(27)\n",
    "\n",
    "for i, label in enumerate(cutoff_classes):\n",
    "    if remaining_counts[i] > max_samples:\n",
    "        np.random.shuffle(annotations_by_class[label])\n",
    "        annotations_by_class[label] = annotations_by_class[label][:max_samples]    \n",
    "\n",
    "# Concatenate all remaining annotations\n",
    "remaining_annotations = []\n",
    "for k in annotations_by_class:\n",
    "    remaining_annotations += annotations_by_class[k]\n",
    "    \n",
    "# Show annotations\n",
    "print('Remaining Annotations:', len(remaining_annotations))\n",
    "for label in annotations_by_class:\n",
    "    print(f'{label}: {len(annotations_by_class[label])}')"
   ]
  },
  {
   "cell_type": "markdown",
   "metadata": {},
   "source": [
    "## Split dataset"
   ]
  },
  {
   "cell_type": "markdown",
   "metadata": {},
   "source": [
    "Finally, we'll split our data into training and validation sets."
   ]
  },
  {
   "cell_type": "code",
   "execution_count": 10,
   "metadata": {},
   "outputs": [
    {
     "name": "stdout",
     "output_type": "stream",
     "text": [
      "stop - Training: 252, Validation: 63\n",
      "speedLimit - Training: 252, Validation: 63\n",
      "pedestrianCrossing - Training: 252, Validation: 63\n",
      "ahead - Training: 252, Validation: 63\n",
      "keepRight - Training: 252, Validation: 63\n",
      "laneEnds - Training: 168, Validation: 42\n",
      "merge - Training: 222, Validation: 56\n",
      "addedLane - Training: 235, Validation: 59\n",
      "yield - Training: 188, Validation: 48\n",
      "\n",
      "Total Training Annotations: 2073\n",
      "Total Validation Annotations: 520\n",
      "Number of Classes: 9\n"
     ]
    }
   ],
   "source": [
    "# Training - Validation split\n",
    "split = 0.8\n",
    "\n",
    "# Split the dataset\n",
    "training_data_dict = dict()\n",
    "validation_data_dict = dict()\n",
    "\n",
    "for k in annotations_by_class:\n",
    "    annotations = annotations_by_class[k]\n",
    "    n = len(annotations)\n",
    "    \n",
    "    training = annotations[:int(n*split)]\n",
    "    validation = annotations[int(n*split):]\n",
    "    \n",
    "    training_data_dict[k] = training\n",
    "    validation_data_dict[k] = validation\n",
    "    \n",
    "# Accumulate training and validation data\n",
    "training_data = []\n",
    "validation_data = []\n",
    "\n",
    "for k in training_data_dict:\n",
    "    training_data += training_data_dict[k]\n",
    "for k in validation_data_dict:\n",
    "    validation_data += validation_data_dict[k]\n",
    "    \n",
    "# Show split data\n",
    "for label in annotations_by_class:\n",
    "    print(f'{label} - Training: {len(training_data_dict[label])}, Validation: {len(validation_data_dict[label])}')\n",
    "    \n",
    "print('\\nTotal Training Annotations:', len(training_data))\n",
    "print('Total Validation Annotations:', len(validation_data))\n",
    "\n",
    "classes = sorted(list(annotations_by_class.keys()))\n",
    "num_classes = len(classes)\n",
    "\n",
    "print('Number of Classes:', num_classes)"
   ]
  },
  {
   "cell_type": "markdown",
   "metadata": {},
   "source": [
    "## View data\n",
    "Let's take a look at what some of our images and annotations will look like."
   ]
  },
  {
   "cell_type": "code",
   "execution_count": 27,
   "metadata": {},
   "outputs": [
    {
     "name": "stdout",
     "output_type": "stream",
     "text": [
      "6 0.52587890625 0.2978927203065134 0.0283203125 0.06704980842911877\n"
     ]
    },
    {
     "data": {
      "image/png": "[encoded data removed]",
      "text/plain": [
       "<Figure size 432x288 with 1 Axes>"
      ]
     },
     "metadata": {
      "needs_background": "light"
     },
     "output_type": "display_data"
    }
   ],
   "source": [
    "import cv2 as cv\n",
    "import matplotlib.pyplot as plt\n",
    "import numpy as np\n",
    "\n",
    "# Generate random index\n",
    "rng = np.random.randint(0, len(training_data))\n",
    "\n",
    "# Get annotation\n",
    "annotation = training_data[rng]\n",
    "im = cv.imread(annotation.filename)\n",
    "\n",
    "# Draw bounding box\n",
    "def show_annotation(im, annotation):  \n",
    "    height, width, channels = im.shape\n",
    "    x,y,w,h = annotation.bounds\n",
    "    left = int((float(x) - float(w)/2)*width)\n",
    "    top = int((float(y) - float(h)/2)*height)\n",
    "    right = int((float(x) + float(w)/2)*width)\n",
    "    bot = int((float(y) + float(h)/2)*height)\n",
    "    cv.rectangle(im, (left, top), (right, bot), (255, 255, 0), 2)\n",
    "\n",
    "    cv.putText(im,annotation.label,(left,top), cv.FONT_HERSHEY_SIMPLEX,\\\n",
    "           1, (255, 255, 0), 2, cv.LINE_AA)\n",
    "\n",
    "    # Display image\n",
    "    plt.imshow(cv.cvtColor(im, cv.COLOR_BGR2RGB));\n",
    "    \n",
    "show_annotation(im, annotation)\n",
    "print(annotation)"
   ]
  },
  {
   "cell_type": "markdown",
   "metadata": {},
   "source": [
    "## Save data\n",
    "Now that we have our annotations sorted, we need to save and move the images and labels to the correct directories, and generate the yaml descriptor file."
   ]
  },
  {
   "cell_type": "code",
   "execution_count": 28,
   "metadata": {},
   "outputs": [
    {
     "name": "stdout",
     "output_type": "stream",
     "text": [
      "Processed 2377 out of 2377 images.\n",
      "Generating configuration file...\n",
      "Completed.\n"
     ]
    }
   ],
   "source": [
    "from os.path import join, basename\n",
    "from pathlib import Path\n",
    "from IPython.display import clear_output\n",
    "\n",
    "# Separate annotations by image file\n",
    "training_image_files = dict()\n",
    "validation_image_files = dict()\n",
    "\n",
    "for annotation in training_data:\n",
    "    if annotation.filename not in training_image_files.keys():\n",
    "        training_image_files[annotation.filename] = []\n",
    "    training_image_files[annotation.filename].append(annotation)\n",
    "\n",
    "for annotation in validation_data:\n",
    "    if annotation.filename not in validation_image_files.keys():\n",
    "        validation_image_files[annotation.filename] = []\n",
    "    validation_image_files[annotation.filename].append(annotation)\n",
    "\n",
    "# Create directories if they don't exist\n",
    "train_images_location = join(data_location, 'images', 'train')\n",
    "train_labels_location = join(data_location, 'labels', 'train')\n",
    "val_images_location = join(data_location, 'images', 'val')\n",
    "val_labels_location = join(data_location, 'labels', 'val')\n",
    "Path(train_images_location).mkdir(parents=True, exist_ok=True)\n",
    "Path(train_labels_location).mkdir(parents=True, exist_ok=True)\n",
    "Path(val_images_location).mkdir(parents=True, exist_ok=True)\n",
    "Path(val_labels_location).mkdir(parents=True, exist_ok=True)\n",
    "    \n",
    "# Iterate through each image file, generate label txt file, and save\n",
    "total_images = len(training_image_files) + len(validation_image_files)\n",
    "processed = 0\n",
    "\n",
    "for file in training_image_files:\n",
    "    clear_output(wait=True)\n",
    "    \n",
    "    # Open and save image\n",
    "    im = Image.open(file)\n",
    "    filename = '.'.join(basename(file).split('.')[:-1])\n",
    "    im.save(join(train_images_location, filename + '.jpg'))\n",
    "    \n",
    "    # Generate and save label file\n",
    "    with open(join(train_labels_location, filename + '.txt'), 'w+') as f:\n",
    "        for annotation in training_image_files[file]:\n",
    "            f.write(str(annotation) + '\\n')\n",
    "    \n",
    "    # Update progress\n",
    "    processed += 1\n",
    "    print(f'Processed {processed} out of {total_images} images.')\n",
    "            \n",
    "for file in validation_image_files:\n",
    "    clear_output(wait=True)\n",
    "    \n",
    "    # Open and save image\n",
    "    im = Image.open(file)\n",
    "    filename = '.'.join(basename(file).split('.')[:-1])\n",
    "    im.save(join(val_images_location, filename + '.jpg'))\n",
    "    \n",
    "    # Generate and save label file\n",
    "    with open(join(val_labels_location, filename + '.txt'), 'w+') as f:\n",
    "        for annotation in validation_image_files[file]:\n",
    "            f.write(str(annotation) + '\\n')\n",
    "    \n",
    "    # Update progress\n",
    "    processed += 1\n",
    "    print(f'Processed {processed} out of {total_images} images.')\n",
    "    \n",
    "print('Generating configuration file...')\n",
    "with open(join(data_location, 'traffic.yaml'), 'w+') as f:\n",
    "    f.write(f'train: {train_images_location}/\\n' +\n",
    "           f'val: {val_images_location}/\\n\\n' +\n",
    "           f'nc: {len(classes)}\\n\\n' +\n",
    "           f'names: {classes}')\n",
    "    \n",
    "print('Completed.')"
   ]
  }
 ],
 "metadata": {
  "kernelspec": {
   "display_name": "Python 3",
   "language": "python",
   "name": "python3"
  },
  "language_info": {
   "codemirror_mode": {
    "name": "ipython",
    "version": 3
   },
   "file_extension": ".py",
   "mimetype": "text/x-python",
   "name": "python",
   "nbconvert_exporter": "python",
   "pygments_lexer": "ipython3",
   "version": "3.8.5"
  }
 },
 "nbformat": 4,
 "nbformat_minor": 4
}
